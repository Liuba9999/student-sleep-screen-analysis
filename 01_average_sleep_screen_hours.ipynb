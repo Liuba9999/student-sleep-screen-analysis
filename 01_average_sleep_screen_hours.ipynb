{
 "cells": [
  {
   "cell_type": "markdown",
   "id": "7acb60c3-2adb-4e44-b9ce-d70524fe069c",
   "metadata": {},
   "source": [
    "\n",
    " ### **How Sleep and Screen Time Affect Grades in Children**\n",
    "\n",
    "   ### This project explores how children's sleep hours and screen time are associated with their academic performance using survey data."
   ]
  },
  {
   "cell_type": "code",
   "execution_count": 4,
   "id": "0700922a-38f3-4325-a579-c530252cc53b",
   "metadata": {},
   "outputs": [],
   "source": [
    "import pandas as pd\n",
    "import numpy as np"
   ]
  },
  {
   "cell_type": "code",
   "execution_count": 5,
   "id": "d85c8679-4afe-40d5-8897-1d6ceaef8589",
   "metadata": {},
   "outputs": [
    {
     "name": "stdout",
     "output_type": "stream",
     "text": [
      "<class 'pandas.core.frame.DataFrame'>\n",
      "RangeIndex: 55162 entries, 0 to 55161\n",
      "Columns: 456 entries, HEIGHT to FWC\n",
      "dtypes: float64(452), int64(2), object(2)\n",
      "memory usage: 191.9+ MB\n"
     ]
    }
   ],
   "source": [
    "data=pd.read_csv('nsch_2023_csv.csv')\n",
    "data.info()"
   ]
  },
  {
   "cell_type": "markdown",
   "id": "a60947ea-1e7e-4eda-924b-2d4014426d67",
   "metadata": {},
   "source": [
    "#### Choosing only needed columnes "
   ]
  },
  {
   "cell_type": "code",
   "execution_count": 6,
   "id": "5a0d0c14-9364-48dd-b12f-be89e3831537",
   "metadata": {},
   "outputs": [
    {
     "data": {
      "text/html": [
       "<div>\n",
       "<style scoped>\n",
       "    .dataframe tbody tr th:only-of-type {\n",
       "        vertical-align: middle;\n",
       "    }\n",
       "\n",
       "    .dataframe tbody tr th {\n",
       "        vertical-align: top;\n",
       "    }\n",
       "\n",
       "    .dataframe thead th {\n",
       "        text-align: right;\n",
       "    }\n",
       "</style>\n",
       "<table border=\"1\" class=\"dataframe\">\n",
       "  <thead>\n",
       "    <tr style=\"text-align: right;\">\n",
       "      <th></th>\n",
       "      <th>GRADES</th>\n",
       "      <th>BEDTIME</th>\n",
       "      <th>HOURSLEEP</th>\n",
       "      <th>BIRTH_YR</th>\n",
       "      <th>BORNUSA</th>\n",
       "      <th>SCREENTIME</th>\n",
       "    </tr>\n",
       "  </thead>\n",
       "  <tbody>\n",
       "    <tr>\n",
       "      <th>0</th>\n",
       "      <td>3.0</td>\n",
       "      <td>3.0</td>\n",
       "      <td>3.0</td>\n",
       "      <td>2011.0</td>\n",
       "      <td>1.0</td>\n",
       "      <td>4.0</td>\n",
       "    </tr>\n",
       "    <tr>\n",
       "      <th>1</th>\n",
       "      <td>1.0</td>\n",
       "      <td>1.0</td>\n",
       "      <td>5.0</td>\n",
       "      <td>2009.0</td>\n",
       "      <td>1.0</td>\n",
       "      <td>5.0</td>\n",
       "    </tr>\n",
       "    <tr>\n",
       "      <th>2</th>\n",
       "      <td>3.0</td>\n",
       "      <td>2.0</td>\n",
       "      <td>5.0</td>\n",
       "      <td>2006.0</td>\n",
       "      <td>1.0</td>\n",
       "      <td>4.0</td>\n",
       "    </tr>\n",
       "    <tr>\n",
       "      <th>3</th>\n",
       "      <td>2.0</td>\n",
       "      <td>2.0</td>\n",
       "      <td>5.0</td>\n",
       "      <td>2010.0</td>\n",
       "      <td>1.0</td>\n",
       "      <td>4.0</td>\n",
       "    </tr>\n",
       "    <tr>\n",
       "      <th>4</th>\n",
       "      <td>2.0</td>\n",
       "      <td>2.0</td>\n",
       "      <td>5.0</td>\n",
       "      <td>2012.0</td>\n",
       "      <td>1.0</td>\n",
       "      <td>5.0</td>\n",
       "    </tr>\n",
       "  </tbody>\n",
       "</table>\n",
       "</div>"
      ],
      "text/plain": [
       "   GRADES  BEDTIME  HOURSLEEP  BIRTH_YR  BORNUSA  SCREENTIME\n",
       "0     3.0      3.0        3.0    2011.0      1.0         4.0\n",
       "1     1.0      1.0        5.0    2009.0      1.0         5.0\n",
       "2     3.0      2.0        5.0    2006.0      1.0         4.0\n",
       "3     2.0      2.0        5.0    2010.0      1.0         4.0\n",
       "4     2.0      2.0        5.0    2012.0      1.0         5.0"
      ]
     },
     "execution_count": 6,
     "metadata": {},
     "output_type": "execute_result"
    }
   ],
   "source": [
    "selected_columns=data[['GRADES','BEDTIME','HOURSLEEP','BIRTH_YR','BORNUSA','SCREENTIME']]\n",
    "selected_columns.head()"
   ]
  },
  {
   "cell_type": "code",
   "execution_count": 47,
   "id": "cb1c74d5-33f2-4087-bea5-2c9cb3aaff6a",
   "metadata": {},
   "outputs": [
    {
     "data": {
      "text/html": [
       "<div>\n",
       "<style scoped>\n",
       "    .dataframe tbody tr th:only-of-type {\n",
       "        vertical-align: middle;\n",
       "    }\n",
       "\n",
       "    .dataframe tbody tr th {\n",
       "        vertical-align: top;\n",
       "    }\n",
       "\n",
       "    .dataframe thead th {\n",
       "        text-align: right;\n",
       "    }\n",
       "</style>\n",
       "<table border=\"1\" class=\"dataframe\">\n",
       "  <thead>\n",
       "    <tr style=\"text-align: right;\">\n",
       "      <th></th>\n",
       "      <th>GRADES</th>\n",
       "      <th>BEDTIME</th>\n",
       "      <th>HOURSLEEP</th>\n",
       "      <th>BIRTH_YR</th>\n",
       "      <th>BORNUSA</th>\n",
       "      <th>SCREENTIME</th>\n",
       "    </tr>\n",
       "  </thead>\n",
       "  <tbody>\n",
       "    <tr>\n",
       "      <th>0</th>\n",
       "      <td>3.0</td>\n",
       "      <td>3.0</td>\n",
       "      <td>3.0</td>\n",
       "      <td>2011.0</td>\n",
       "      <td>1.0</td>\n",
       "      <td>4.0</td>\n",
       "    </tr>\n",
       "    <tr>\n",
       "      <th>1</th>\n",
       "      <td>1.0</td>\n",
       "      <td>1.0</td>\n",
       "      <td>5.0</td>\n",
       "      <td>2009.0</td>\n",
       "      <td>1.0</td>\n",
       "      <td>5.0</td>\n",
       "    </tr>\n",
       "    <tr>\n",
       "      <th>2</th>\n",
       "      <td>3.0</td>\n",
       "      <td>2.0</td>\n",
       "      <td>5.0</td>\n",
       "      <td>2006.0</td>\n",
       "      <td>1.0</td>\n",
       "      <td>4.0</td>\n",
       "    </tr>\n",
       "    <tr>\n",
       "      <th>3</th>\n",
       "      <td>2.0</td>\n",
       "      <td>2.0</td>\n",
       "      <td>5.0</td>\n",
       "      <td>2010.0</td>\n",
       "      <td>1.0</td>\n",
       "      <td>4.0</td>\n",
       "    </tr>\n",
       "    <tr>\n",
       "      <th>4</th>\n",
       "      <td>2.0</td>\n",
       "      <td>2.0</td>\n",
       "      <td>5.0</td>\n",
       "      <td>2012.0</td>\n",
       "      <td>1.0</td>\n",
       "      <td>5.0</td>\n",
       "    </tr>\n",
       "  </tbody>\n",
       "</table>\n",
       "</div>"
      ],
      "text/plain": [
       "   GRADES  BEDTIME  HOURSLEEP  BIRTH_YR  BORNUSA  SCREENTIME\n",
       "0     3.0      3.0        3.0    2011.0      1.0         4.0\n",
       "1     1.0      1.0        5.0    2009.0      1.0         5.0\n",
       "2     3.0      2.0        5.0    2006.0      1.0         4.0\n",
       "3     2.0      2.0        5.0    2010.0      1.0         4.0\n",
       "4     2.0      2.0        5.0    2012.0      1.0         5.0"
      ]
     },
     "execution_count": 47,
     "metadata": {},
     "output_type": "execute_result"
    }
   ],
   "source": [
    "#all rows are cleaned from Nan and duplicates\n",
    "filtered_selected_columns=selected_columns.dropna(how='any').drop_duplicates()\n",
    "filtered_selected_columns.head()\n"
   ]
  },
  {
   "cell_type": "code",
   "execution_count": 48,
   "id": "ea65d40d-0b82-47f6-a3ad-621c87d5141b",
   "metadata": {},
   "outputs": [
    {
     "name": "stdout",
     "output_type": "stream",
     "text": [
      "<class 'pandas.core.frame.DataFrame'>\n",
      "Index: 5412 entries, 0 to 55156\n",
      "Data columns (total 6 columns):\n",
      " #   Column      Non-Null Count  Dtype  \n",
      "---  ------      --------------  -----  \n",
      " 0   GRADES      5412 non-null   float64\n",
      " 1   BEDTIME     5412 non-null   float64\n",
      " 2   HOURSLEEP   5412 non-null   float64\n",
      " 3   BIRTH_YR    5412 non-null   float64\n",
      " 4   BORNUSA     5412 non-null   float64\n",
      " 5   SCREENTIME  5412 non-null   float64\n",
      "dtypes: float64(6)\n",
      "memory usage: 296.0 KB\n"
     ]
    }
   ],
   "source": [
    "filtered_selected_columns.info()"
   ]
  },
  {
   "cell_type": "markdown",
   "id": "1375fd22-3d34-4a06-b366-88fa43d2d101",
   "metadata": {},
   "source": [
    "#### Converting data types"
   ]
  },
  {
   "cell_type": "code",
   "execution_count": 8,
   "id": "d2af78d0-1a0d-490e-b184-1a4dabe5f943",
   "metadata": {},
   "outputs": [],
   "source": [
    "def born_usa(number):\n",
    "    if number==1:\n",
    "        return 'Yes'\n",
    "    return 'No'\n",
    "    "
   ]
  },
  {
   "cell_type": "code",
   "execution_count": 9,
   "id": "72a949fb-2f63-49d5-bfba-381029918279",
   "metadata": {},
   "outputs": [
    {
     "data": {
      "text/plain": [
       "0        Yes\n",
       "1        Yes\n",
       "2        Yes\n",
       "3        Yes\n",
       "4        Yes\n",
       "        ... \n",
       "55099    Yes\n",
       "55109    Yes\n",
       "55113     No\n",
       "55152     No\n",
       "55156     No\n",
       "Name: BORNUSA, Length: 5412, dtype: object"
      ]
     },
     "execution_count": 9,
     "metadata": {},
     "output_type": "execute_result"
    }
   ],
   "source": [
    "filtered_selected_columns['BORNUSA'].apply(born_usa)\n"
   ]
  },
  {
   "cell_type": "code",
   "execution_count": 10,
   "id": "342be54d-7de5-4c66-82c7-f7f2656dabfa",
   "metadata": {},
   "outputs": [],
   "source": [
    "filtered_selected_columns['BORNUSA']=filtered_selected_columns['BORNUSA'].apply(born_usa)"
   ]
  },
  {
   "cell_type": "code",
   "execution_count": 11,
   "id": "8aa96d2a-5a66-4b50-ae5f-58bb21821111",
   "metadata": {},
   "outputs": [],
   "source": [
    "def bed_time(number):\n",
    "    if number==1:\n",
    "        return 'Always'\n",
    "    elif number==2:\n",
    "        return 'Usually'\n",
    "    elif number==3:\n",
    "        return 'Sometimes'\n",
    "    elif number==4:\n",
    "        return 'Rarely'\n",
    "    elif number==5:\n",
    "        return 'Never'"
   ]
  },
  {
   "cell_type": "code",
   "execution_count": 12,
   "id": "cd7f9d3d-8452-47df-8245-e1ba1799234c",
   "metadata": {},
   "outputs": [],
   "source": [
    "filtered_selected_columns['BEDTIME']=filtered_selected_columns['BEDTIME'].apply(bed_time)\n"
   ]
  },
  {
   "cell_type": "code",
   "execution_count": 53,
   "id": "0c2f5ff6-e715-4bd1-837f-4f41d849ee8d",
   "metadata": {},
   "outputs": [
    {
     "data": {
      "text/html": [
       "<div>\n",
       "<style scoped>\n",
       "    .dataframe tbody tr th:only-of-type {\n",
       "        vertical-align: middle;\n",
       "    }\n",
       "\n",
       "    .dataframe tbody tr th {\n",
       "        vertical-align: top;\n",
       "    }\n",
       "\n",
       "    .dataframe thead th {\n",
       "        text-align: right;\n",
       "    }\n",
       "</style>\n",
       "<table border=\"1\" class=\"dataframe\">\n",
       "  <thead>\n",
       "    <tr style=\"text-align: right;\">\n",
       "      <th></th>\n",
       "      <th>GRADES</th>\n",
       "      <th>BEDTIME</th>\n",
       "      <th>HOURSLEEP</th>\n",
       "      <th>BIRTH_YR</th>\n",
       "      <th>BORNUSA</th>\n",
       "      <th>SCREENTIME</th>\n",
       "    </tr>\n",
       "  </thead>\n",
       "  <tbody>\n",
       "    <tr>\n",
       "      <th>0</th>\n",
       "      <td>3.0</td>\n",
       "      <td>3.0</td>\n",
       "      <td>3.0</td>\n",
       "      <td>2011.0</td>\n",
       "      <td>1.0</td>\n",
       "      <td>4.0</td>\n",
       "    </tr>\n",
       "    <tr>\n",
       "      <th>1</th>\n",
       "      <td>1.0</td>\n",
       "      <td>1.0</td>\n",
       "      <td>5.0</td>\n",
       "      <td>2009.0</td>\n",
       "      <td>1.0</td>\n",
       "      <td>5.0</td>\n",
       "    </tr>\n",
       "    <tr>\n",
       "      <th>2</th>\n",
       "      <td>3.0</td>\n",
       "      <td>2.0</td>\n",
       "      <td>5.0</td>\n",
       "      <td>2006.0</td>\n",
       "      <td>1.0</td>\n",
       "      <td>4.0</td>\n",
       "    </tr>\n",
       "    <tr>\n",
       "      <th>3</th>\n",
       "      <td>2.0</td>\n",
       "      <td>2.0</td>\n",
       "      <td>5.0</td>\n",
       "      <td>2010.0</td>\n",
       "      <td>1.0</td>\n",
       "      <td>4.0</td>\n",
       "    </tr>\n",
       "    <tr>\n",
       "      <th>4</th>\n",
       "      <td>2.0</td>\n",
       "      <td>2.0</td>\n",
       "      <td>5.0</td>\n",
       "      <td>2012.0</td>\n",
       "      <td>1.0</td>\n",
       "      <td>5.0</td>\n",
       "    </tr>\n",
       "  </tbody>\n",
       "</table>\n",
       "</div>"
      ],
      "text/plain": [
       "   GRADES  BEDTIME  HOURSLEEP  BIRTH_YR  BORNUSA  SCREENTIME\n",
       "0     3.0      3.0        3.0    2011.0      1.0         4.0\n",
       "1     1.0      1.0        5.0    2009.0      1.0         5.0\n",
       "2     3.0      2.0        5.0    2006.0      1.0         4.0\n",
       "3     2.0      2.0        5.0    2010.0      1.0         4.0\n",
       "4     2.0      2.0        5.0    2012.0      1.0         5.0"
      ]
     },
     "execution_count": 53,
     "metadata": {},
     "output_type": "execute_result"
    }
   ],
   "source": [
    "filtered_selected_columns.head()"
   ]
  },
  {
   "cell_type": "code",
   "execution_count": 54,
   "id": "1ff786f8-0d48-4039-a595-18fcd5598a9a",
   "metadata": {},
   "outputs": [
    {
     "data": {
      "text/html": [
       "<div>\n",
       "<style scoped>\n",
       "    .dataframe tbody tr th:only-of-type {\n",
       "        vertical-align: middle;\n",
       "    }\n",
       "\n",
       "    .dataframe tbody tr th {\n",
       "        vertical-align: top;\n",
       "    }\n",
       "\n",
       "    .dataframe thead th {\n",
       "        text-align: right;\n",
       "    }\n",
       "</style>\n",
       "<table border=\"1\" class=\"dataframe\">\n",
       "  <thead>\n",
       "    <tr style=\"text-align: right;\">\n",
       "      <th></th>\n",
       "      <th>GRADES</th>\n",
       "      <th>BEDTIME</th>\n",
       "      <th>HOURSLEEP</th>\n",
       "      <th>BIRTH_YR</th>\n",
       "      <th>BORNUSA</th>\n",
       "      <th>SCREENTIME</th>\n",
       "    </tr>\n",
       "  </thead>\n",
       "  <tbody>\n",
       "    <tr>\n",
       "      <th>0</th>\n",
       "      <td>3</td>\n",
       "      <td>3.0</td>\n",
       "      <td>3</td>\n",
       "      <td>2011</td>\n",
       "      <td>1.0</td>\n",
       "      <td>4</td>\n",
       "    </tr>\n",
       "    <tr>\n",
       "      <th>1</th>\n",
       "      <td>1</td>\n",
       "      <td>1.0</td>\n",
       "      <td>5</td>\n",
       "      <td>2009</td>\n",
       "      <td>1.0</td>\n",
       "      <td>5</td>\n",
       "    </tr>\n",
       "    <tr>\n",
       "      <th>2</th>\n",
       "      <td>3</td>\n",
       "      <td>2.0</td>\n",
       "      <td>5</td>\n",
       "      <td>2006</td>\n",
       "      <td>1.0</td>\n",
       "      <td>4</td>\n",
       "    </tr>\n",
       "    <tr>\n",
       "      <th>3</th>\n",
       "      <td>2</td>\n",
       "      <td>2.0</td>\n",
       "      <td>5</td>\n",
       "      <td>2010</td>\n",
       "      <td>1.0</td>\n",
       "      <td>4</td>\n",
       "    </tr>\n",
       "    <tr>\n",
       "      <th>4</th>\n",
       "      <td>2</td>\n",
       "      <td>2.0</td>\n",
       "      <td>5</td>\n",
       "      <td>2012</td>\n",
       "      <td>1.0</td>\n",
       "      <td>5</td>\n",
       "    </tr>\n",
       "  </tbody>\n",
       "</table>\n",
       "</div>"
      ],
      "text/plain": [
       "   GRADES  BEDTIME  HOURSLEEP  BIRTH_YR  BORNUSA  SCREENTIME\n",
       "0       3      3.0          3      2011      1.0           4\n",
       "1       1      1.0          5      2009      1.0           5\n",
       "2       3      2.0          5      2006      1.0           4\n",
       "3       2      2.0          5      2010      1.0           4\n",
       "4       2      2.0          5      2012      1.0           5"
      ]
     },
     "execution_count": 54,
     "metadata": {},
     "output_type": "execute_result"
    }
   ],
   "source": [
    "filtered_selected_columns[['GRADES','HOURSLEEP','BIRTH_YR','SCREENTIME']]=filtered_selected_columns[['GRADES','HOURSLEEP','BIRTH_YR','SCREENTIME']].astype(int)\n",
    "filtered_selected_columns.head()"
   ]
  },
  {
   "cell_type": "code",
   "execution_count": 55,
   "id": "861eba12-ae21-463b-bd28-683f12bc1afd",
   "metadata": {},
   "outputs": [
    {
     "data": {
      "text/html": [
       "<div>\n",
       "<style scoped>\n",
       "    .dataframe tbody tr th:only-of-type {\n",
       "        vertical-align: middle;\n",
       "    }\n",
       "\n",
       "    .dataframe tbody tr th {\n",
       "        vertical-align: top;\n",
       "    }\n",
       "\n",
       "    .dataframe thead th {\n",
       "        text-align: right;\n",
       "    }\n",
       "</style>\n",
       "<table border=\"1\" class=\"dataframe\">\n",
       "  <thead>\n",
       "    <tr style=\"text-align: right;\">\n",
       "      <th></th>\n",
       "      <th>GRADES</th>\n",
       "      <th>BEDTIME</th>\n",
       "      <th>HOURSLEEP</th>\n",
       "      <th>BIRTH_YR</th>\n",
       "      <th>BORNUSA</th>\n",
       "      <th>SCREENTIME</th>\n",
       "      <th>AGE</th>\n",
       "    </tr>\n",
       "  </thead>\n",
       "  <tbody>\n",
       "    <tr>\n",
       "      <th>0</th>\n",
       "      <td>3</td>\n",
       "      <td>3.0</td>\n",
       "      <td>3</td>\n",
       "      <td>2011</td>\n",
       "      <td>1.0</td>\n",
       "      <td>4</td>\n",
       "      <td>12</td>\n",
       "    </tr>\n",
       "    <tr>\n",
       "      <th>1</th>\n",
       "      <td>1</td>\n",
       "      <td>1.0</td>\n",
       "      <td>5</td>\n",
       "      <td>2009</td>\n",
       "      <td>1.0</td>\n",
       "      <td>5</td>\n",
       "      <td>14</td>\n",
       "    </tr>\n",
       "    <tr>\n",
       "      <th>2</th>\n",
       "      <td>3</td>\n",
       "      <td>2.0</td>\n",
       "      <td>5</td>\n",
       "      <td>2006</td>\n",
       "      <td>1.0</td>\n",
       "      <td>4</td>\n",
       "      <td>17</td>\n",
       "    </tr>\n",
       "    <tr>\n",
       "      <th>3</th>\n",
       "      <td>2</td>\n",
       "      <td>2.0</td>\n",
       "      <td>5</td>\n",
       "      <td>2010</td>\n",
       "      <td>1.0</td>\n",
       "      <td>4</td>\n",
       "      <td>13</td>\n",
       "    </tr>\n",
       "    <tr>\n",
       "      <th>4</th>\n",
       "      <td>2</td>\n",
       "      <td>2.0</td>\n",
       "      <td>5</td>\n",
       "      <td>2012</td>\n",
       "      <td>1.0</td>\n",
       "      <td>5</td>\n",
       "      <td>11</td>\n",
       "    </tr>\n",
       "  </tbody>\n",
       "</table>\n",
       "</div>"
      ],
      "text/plain": [
       "   GRADES  BEDTIME  HOURSLEEP  BIRTH_YR  BORNUSA  SCREENTIME  AGE\n",
       "0       3      3.0          3      2011      1.0           4   12\n",
       "1       1      1.0          5      2009      1.0           5   14\n",
       "2       3      2.0          5      2006      1.0           4   17\n",
       "3       2      2.0          5      2010      1.0           4   13\n",
       "4       2      2.0          5      2012      1.0           5   11"
      ]
     },
     "execution_count": 55,
     "metadata": {},
     "output_type": "execute_result"
    }
   ],
   "source": [
    "filtered_selected_columns['AGE']=2023-filtered_selected_columns['BIRTH_YR']\n",
    "filtered_selected_columns.head()"
   ]
  },
  {
   "cell_type": "code",
   "execution_count": 16,
   "id": "f60a9211-7fd7-4713-b198-f5c5ad4eb810",
   "metadata": {},
   "outputs": [],
   "source": [
    "#we need only 6 to 18 years old.Let's filter it.\n",
    "def sixth_and_older(number):\n",
    "    if number>=6 :\n",
    "        return True\n",
    "    else:\n",
    "        return False"
   ]
  },
  {
   "cell_type": "code",
   "execution_count": 17,
   "id": "cc0b72a1-586e-43ff-bd13-86ba60bdef7c",
   "metadata": {},
   "outputs": [],
   "source": [
    "filtered_selected_columns['AGE'].apply(sixth_and_older)\n",
    "#mask=filtered_selected_columns['AGE'].apply(sixth_and_older)\n",
    "#mask.value_counts()\n",
    "filtered_selected_columns=filtered_selected_columns[filtered_selected_columns['AGE'].apply(sixth_and_older)]#such method works onlyl when we have booleans\n"
   ]
  },
  {
   "cell_type": "code",
   "execution_count": 56,
   "id": "70c4a8b9-f9ab-4f29-9277-03e7d7dccc29",
   "metadata": {},
   "outputs": [
    {
     "data": {
      "text/html": [
       "<div>\n",
       "<style scoped>\n",
       "    .dataframe tbody tr th:only-of-type {\n",
       "        vertical-align: middle;\n",
       "    }\n",
       "\n",
       "    .dataframe tbody tr th {\n",
       "        vertical-align: top;\n",
       "    }\n",
       "\n",
       "    .dataframe thead th {\n",
       "        text-align: right;\n",
       "    }\n",
       "</style>\n",
       "<table border=\"1\" class=\"dataframe\">\n",
       "  <thead>\n",
       "    <tr style=\"text-align: right;\">\n",
       "      <th></th>\n",
       "      <th>GRADES</th>\n",
       "      <th>BEDTIME</th>\n",
       "      <th>HOURSLEEP</th>\n",
       "      <th>BIRTH_YR</th>\n",
       "      <th>BORNUSA</th>\n",
       "      <th>SCREENTIME</th>\n",
       "      <th>AGE</th>\n",
       "    </tr>\n",
       "  </thead>\n",
       "  <tbody>\n",
       "    <tr>\n",
       "      <th>0</th>\n",
       "      <td>3</td>\n",
       "      <td>3.0</td>\n",
       "      <td>3</td>\n",
       "      <td>2011</td>\n",
       "      <td>1.0</td>\n",
       "      <td>4</td>\n",
       "      <td>12</td>\n",
       "    </tr>\n",
       "    <tr>\n",
       "      <th>1</th>\n",
       "      <td>1</td>\n",
       "      <td>1.0</td>\n",
       "      <td>5</td>\n",
       "      <td>2009</td>\n",
       "      <td>1.0</td>\n",
       "      <td>5</td>\n",
       "      <td>14</td>\n",
       "    </tr>\n",
       "    <tr>\n",
       "      <th>2</th>\n",
       "      <td>3</td>\n",
       "      <td>2.0</td>\n",
       "      <td>5</td>\n",
       "      <td>2006</td>\n",
       "      <td>1.0</td>\n",
       "      <td>4</td>\n",
       "      <td>17</td>\n",
       "    </tr>\n",
       "    <tr>\n",
       "      <th>3</th>\n",
       "      <td>2</td>\n",
       "      <td>2.0</td>\n",
       "      <td>5</td>\n",
       "      <td>2010</td>\n",
       "      <td>1.0</td>\n",
       "      <td>4</td>\n",
       "      <td>13</td>\n",
       "    </tr>\n",
       "    <tr>\n",
       "      <th>4</th>\n",
       "      <td>2</td>\n",
       "      <td>2.0</td>\n",
       "      <td>5</td>\n",
       "      <td>2012</td>\n",
       "      <td>1.0</td>\n",
       "      <td>5</td>\n",
       "      <td>11</td>\n",
       "    </tr>\n",
       "  </tbody>\n",
       "</table>\n",
       "</div>"
      ],
      "text/plain": [
       "   GRADES  BEDTIME  HOURSLEEP  BIRTH_YR  BORNUSA  SCREENTIME  AGE\n",
       "0       3      3.0          3      2011      1.0           4   12\n",
       "1       1      1.0          5      2009      1.0           5   14\n",
       "2       3      2.0          5      2006      1.0           4   17\n",
       "3       2      2.0          5      2010      1.0           4   13\n",
       "4       2      2.0          5      2012      1.0           5   11"
      ]
     },
     "execution_count": 56,
     "metadata": {},
     "output_type": "execute_result"
    }
   ],
   "source": [
    "filtered_selected_columns.head()"
   ]
  },
  {
   "cell_type": "code",
   "execution_count": null,
   "id": "b6862fc8-1c2f-403d-befd-b3b8a62a9723",
   "metadata": {},
   "outputs": [],
   "source": []
  },
  {
   "cell_type": "code",
   "execution_count": 19,
   "id": "c34d081c-18bc-4eb2-92b2-73c2b3a99a36",
   "metadata": {
    "scrolled": true
   },
   "outputs": [],
   "source": [
    "\n",
    "filtered_selected_columns=filtered_selected_columns.dropna(subset=['GRADES'])\n"
   ]
  },
  {
   "cell_type": "code",
   "execution_count": 57,
   "id": "5ab95414-1a67-423e-8c70-52eae725d4be",
   "metadata": {},
   "outputs": [
    {
     "data": {
      "text/html": [
       "<div>\n",
       "<style scoped>\n",
       "    .dataframe tbody tr th:only-of-type {\n",
       "        vertical-align: middle;\n",
       "    }\n",
       "\n",
       "    .dataframe tbody tr th {\n",
       "        vertical-align: top;\n",
       "    }\n",
       "\n",
       "    .dataframe thead th {\n",
       "        text-align: right;\n",
       "    }\n",
       "</style>\n",
       "<table border=\"1\" class=\"dataframe\">\n",
       "  <thead>\n",
       "    <tr style=\"text-align: right;\">\n",
       "      <th></th>\n",
       "      <th>GRADES</th>\n",
       "      <th>BEDTIME</th>\n",
       "      <th>HOURSLEEP</th>\n",
       "      <th>BIRTH_YR</th>\n",
       "      <th>BORNUSA</th>\n",
       "      <th>SCREENTIME</th>\n",
       "      <th>AGE</th>\n",
       "    </tr>\n",
       "  </thead>\n",
       "  <tbody>\n",
       "    <tr>\n",
       "      <th>0</th>\n",
       "      <td>3</td>\n",
       "      <td>3.0</td>\n",
       "      <td>3</td>\n",
       "      <td>2011</td>\n",
       "      <td>1.0</td>\n",
       "      <td>4</td>\n",
       "      <td>12</td>\n",
       "    </tr>\n",
       "    <tr>\n",
       "      <th>1</th>\n",
       "      <td>1</td>\n",
       "      <td>1.0</td>\n",
       "      <td>5</td>\n",
       "      <td>2009</td>\n",
       "      <td>1.0</td>\n",
       "      <td>5</td>\n",
       "      <td>14</td>\n",
       "    </tr>\n",
       "    <tr>\n",
       "      <th>2</th>\n",
       "      <td>3</td>\n",
       "      <td>2.0</td>\n",
       "      <td>5</td>\n",
       "      <td>2006</td>\n",
       "      <td>1.0</td>\n",
       "      <td>4</td>\n",
       "      <td>17</td>\n",
       "    </tr>\n",
       "    <tr>\n",
       "      <th>3</th>\n",
       "      <td>2</td>\n",
       "      <td>2.0</td>\n",
       "      <td>5</td>\n",
       "      <td>2010</td>\n",
       "      <td>1.0</td>\n",
       "      <td>4</td>\n",
       "      <td>13</td>\n",
       "    </tr>\n",
       "    <tr>\n",
       "      <th>4</th>\n",
       "      <td>2</td>\n",
       "      <td>2.0</td>\n",
       "      <td>5</td>\n",
       "      <td>2012</td>\n",
       "      <td>1.0</td>\n",
       "      <td>5</td>\n",
       "      <td>11</td>\n",
       "    </tr>\n",
       "  </tbody>\n",
       "</table>\n",
       "</div>"
      ],
      "text/plain": [
       "   GRADES  BEDTIME  HOURSLEEP  BIRTH_YR  BORNUSA  SCREENTIME  AGE\n",
       "0       3      3.0          3      2011      1.0           4   12\n",
       "1       1      1.0          5      2009      1.0           5   14\n",
       "2       3      2.0          5      2006      1.0           4   17\n",
       "3       2      2.0          5      2010      1.0           4   13\n",
       "4       2      2.0          5      2012      1.0           5   11"
      ]
     },
     "execution_count": 57,
     "metadata": {},
     "output_type": "execute_result"
    }
   ],
   "source": [
    "filtered_selected_columns.head()"
   ]
  },
  {
   "cell_type": "code",
   "execution_count": 21,
   "id": "a080bb45-0174-4f53-ac1d-a39448f28652",
   "metadata": {},
   "outputs": [],
   "source": [
    "#Across all subjects, what grades did this child get during the 2022-2023 school year?\n",
    "def grades(number):\n",
    "    if number==1:\n",
    "        return \"Mostly A's\"\n",
    "    elif number==2:\n",
    "        return \"Mostly A's and B's\"\n",
    "    elif number==3:\n",
    "        return \"Mostly B's and C's\"\n",
    "    elif number==4:\n",
    "        return \"Mostly C's and D's\"\n",
    "    elif number==5:\n",
    "        return \"Mostly D's and lower\"\n",
    "    elif number==6:\n",
    "        return \"This child's school does not give these grades\"\n",
    "    "
   ]
  },
  {
   "cell_type": "code",
   "execution_count": 22,
   "id": "17499ceb-71b1-4f96-85fc-375552f8cb36",
   "metadata": {},
   "outputs": [
    {
     "data": {
      "text/plain": [
       "0                                    Mostly B's and C's\n",
       "1                                            Mostly A's\n",
       "2                                    Mostly B's and C's\n",
       "3                                    Mostly A's and B's\n",
       "4                                    Mostly A's and B's\n",
       "                              ...                      \n",
       "55099                                        Mostly A's\n",
       "55109                              Mostly D's and lower\n",
       "55113                                Mostly A's and B's\n",
       "55152    This child's school does not give these grades\n",
       "55156    This child's school does not give these grades\n",
       "Name: GRADES, Length: 5217, dtype: object"
      ]
     },
     "execution_count": 22,
     "metadata": {},
     "output_type": "execute_result"
    }
   ],
   "source": [
    "filtered_selected_columns['GRADES'].apply(grades)\n",
    "#filtered_selected_columns\n"
   ]
  },
  {
   "cell_type": "code",
   "execution_count": 23,
   "id": "b1bfc859-cff7-425c-957e-a5fdc2713cc9",
   "metadata": {},
   "outputs": [],
   "source": [
    "filtered_selected_columns['GRADES']=filtered_selected_columns['GRADES'].apply(grades)"
   ]
  },
  {
   "cell_type": "code",
   "execution_count": 58,
   "id": "0eb66a03-3601-4a43-a9de-3ac95d311e60",
   "metadata": {},
   "outputs": [
    {
     "data": {
      "text/html": [
       "<div>\n",
       "<style scoped>\n",
       "    .dataframe tbody tr th:only-of-type {\n",
       "        vertical-align: middle;\n",
       "    }\n",
       "\n",
       "    .dataframe tbody tr th {\n",
       "        vertical-align: top;\n",
       "    }\n",
       "\n",
       "    .dataframe thead th {\n",
       "        text-align: right;\n",
       "    }\n",
       "</style>\n",
       "<table border=\"1\" class=\"dataframe\">\n",
       "  <thead>\n",
       "    <tr style=\"text-align: right;\">\n",
       "      <th></th>\n",
       "      <th>GRADES</th>\n",
       "      <th>BEDTIME</th>\n",
       "      <th>HOURSLEEP</th>\n",
       "      <th>BIRTH_YR</th>\n",
       "      <th>BORNUSA</th>\n",
       "      <th>SCREENTIME</th>\n",
       "      <th>AGE</th>\n",
       "    </tr>\n",
       "  </thead>\n",
       "  <tbody>\n",
       "    <tr>\n",
       "      <th>0</th>\n",
       "      <td>3</td>\n",
       "      <td>3.0</td>\n",
       "      <td>3</td>\n",
       "      <td>2011</td>\n",
       "      <td>1.0</td>\n",
       "      <td>4</td>\n",
       "      <td>12</td>\n",
       "    </tr>\n",
       "    <tr>\n",
       "      <th>1</th>\n",
       "      <td>1</td>\n",
       "      <td>1.0</td>\n",
       "      <td>5</td>\n",
       "      <td>2009</td>\n",
       "      <td>1.0</td>\n",
       "      <td>5</td>\n",
       "      <td>14</td>\n",
       "    </tr>\n",
       "    <tr>\n",
       "      <th>2</th>\n",
       "      <td>3</td>\n",
       "      <td>2.0</td>\n",
       "      <td>5</td>\n",
       "      <td>2006</td>\n",
       "      <td>1.0</td>\n",
       "      <td>4</td>\n",
       "      <td>17</td>\n",
       "    </tr>\n",
       "    <tr>\n",
       "      <th>3</th>\n",
       "      <td>2</td>\n",
       "      <td>2.0</td>\n",
       "      <td>5</td>\n",
       "      <td>2010</td>\n",
       "      <td>1.0</td>\n",
       "      <td>4</td>\n",
       "      <td>13</td>\n",
       "    </tr>\n",
       "    <tr>\n",
       "      <th>4</th>\n",
       "      <td>2</td>\n",
       "      <td>2.0</td>\n",
       "      <td>5</td>\n",
       "      <td>2012</td>\n",
       "      <td>1.0</td>\n",
       "      <td>5</td>\n",
       "      <td>11</td>\n",
       "    </tr>\n",
       "  </tbody>\n",
       "</table>\n",
       "</div>"
      ],
      "text/plain": [
       "   GRADES  BEDTIME  HOURSLEEP  BIRTH_YR  BORNUSA  SCREENTIME  AGE\n",
       "0       3      3.0          3      2011      1.0           4   12\n",
       "1       1      1.0          5      2009      1.0           5   14\n",
       "2       3      2.0          5      2006      1.0           4   17\n",
       "3       2      2.0          5      2010      1.0           4   13\n",
       "4       2      2.0          5      2012      1.0           5   11"
      ]
     },
     "execution_count": 58,
     "metadata": {},
     "output_type": "execute_result"
    }
   ],
   "source": [
    "filtered_selected_columns.head()"
   ]
  },
  {
   "cell_type": "code",
   "execution_count": 25,
   "id": "f5119af8-f65c-4ab5-86c4-6137f9cff8f5",
   "metadata": {},
   "outputs": [],
   "source": [
    "def hoursleep(number):\n",
    "    if number==1:\n",
    "        return 6 \n",
    "    elif number==2:\n",
    "        return 7 \n",
    "    elif number==3:\n",
    "        return 8 \n",
    "    elif number==4:\n",
    "        return 9 \n",
    "    elif number==5:\n",
    "        return 10\n",
    "    elif number==6:\n",
    "        return 11 \n",
    "    elif number==7:\n",
    "        return 12 "
   ]
  },
  {
   "cell_type": "code",
   "execution_count": 26,
   "id": "37a4c67d-452e-4f08-8ad4-9bb486779d60",
   "metadata": {},
   "outputs": [
    {
     "data": {
      "text/plain": [
       "0         8\n",
       "1        10\n",
       "2        10\n",
       "3        10\n",
       "4        10\n",
       "         ..\n",
       "55099    10\n",
       "55109     7\n",
       "55113     8\n",
       "55152    10\n",
       "55156     9\n",
       "Name: HOURSLEEP, Length: 5217, dtype: int64"
      ]
     },
     "execution_count": 26,
     "metadata": {},
     "output_type": "execute_result"
    }
   ],
   "source": [
    "filtered_selected_columns['HOURSLEEP'].apply(hoursleep)"
   ]
  },
  {
   "cell_type": "code",
   "execution_count": 27,
   "id": "d38c3dc4-52f3-43a9-95aa-73bb0aa813bc",
   "metadata": {},
   "outputs": [],
   "source": [
    "filtered_selected_columns['HOURSLEEP']=filtered_selected_columns['HOURSLEEP'].apply(hoursleep)\n"
   ]
  },
  {
   "cell_type": "code",
   "execution_count": 59,
   "id": "5e326f0b-83b5-44c6-af01-563004eb3393",
   "metadata": {},
   "outputs": [
    {
     "data": {
      "text/html": [
       "<div>\n",
       "<style scoped>\n",
       "    .dataframe tbody tr th:only-of-type {\n",
       "        vertical-align: middle;\n",
       "    }\n",
       "\n",
       "    .dataframe tbody tr th {\n",
       "        vertical-align: top;\n",
       "    }\n",
       "\n",
       "    .dataframe thead th {\n",
       "        text-align: right;\n",
       "    }\n",
       "</style>\n",
       "<table border=\"1\" class=\"dataframe\">\n",
       "  <thead>\n",
       "    <tr style=\"text-align: right;\">\n",
       "      <th></th>\n",
       "      <th>GRADES</th>\n",
       "      <th>BEDTIME</th>\n",
       "      <th>HOURSLEEP</th>\n",
       "      <th>BIRTH_YR</th>\n",
       "      <th>BORNUSA</th>\n",
       "      <th>SCREENTIME</th>\n",
       "      <th>AGE</th>\n",
       "    </tr>\n",
       "  </thead>\n",
       "  <tbody>\n",
       "    <tr>\n",
       "      <th>0</th>\n",
       "      <td>3</td>\n",
       "      <td>3.0</td>\n",
       "      <td>3</td>\n",
       "      <td>2011</td>\n",
       "      <td>1.0</td>\n",
       "      <td>4</td>\n",
       "      <td>12</td>\n",
       "    </tr>\n",
       "    <tr>\n",
       "      <th>1</th>\n",
       "      <td>1</td>\n",
       "      <td>1.0</td>\n",
       "      <td>5</td>\n",
       "      <td>2009</td>\n",
       "      <td>1.0</td>\n",
       "      <td>5</td>\n",
       "      <td>14</td>\n",
       "    </tr>\n",
       "    <tr>\n",
       "      <th>2</th>\n",
       "      <td>3</td>\n",
       "      <td>2.0</td>\n",
       "      <td>5</td>\n",
       "      <td>2006</td>\n",
       "      <td>1.0</td>\n",
       "      <td>4</td>\n",
       "      <td>17</td>\n",
       "    </tr>\n",
       "    <tr>\n",
       "      <th>3</th>\n",
       "      <td>2</td>\n",
       "      <td>2.0</td>\n",
       "      <td>5</td>\n",
       "      <td>2010</td>\n",
       "      <td>1.0</td>\n",
       "      <td>4</td>\n",
       "      <td>13</td>\n",
       "    </tr>\n",
       "    <tr>\n",
       "      <th>4</th>\n",
       "      <td>2</td>\n",
       "      <td>2.0</td>\n",
       "      <td>5</td>\n",
       "      <td>2012</td>\n",
       "      <td>1.0</td>\n",
       "      <td>5</td>\n",
       "      <td>11</td>\n",
       "    </tr>\n",
       "  </tbody>\n",
       "</table>\n",
       "</div>"
      ],
      "text/plain": [
       "   GRADES  BEDTIME  HOURSLEEP  BIRTH_YR  BORNUSA  SCREENTIME  AGE\n",
       "0       3      3.0          3      2011      1.0           4   12\n",
       "1       1      1.0          5      2009      1.0           5   14\n",
       "2       3      2.0          5      2006      1.0           4   17\n",
       "3       2      2.0          5      2010      1.0           4   13\n",
       "4       2      2.0          5      2012      1.0           5   11"
      ]
     },
     "execution_count": 59,
     "metadata": {},
     "output_type": "execute_result"
    }
   ],
   "source": [
    "filtered_selected_columns.head()"
   ]
  },
  {
   "cell_type": "code",
   "execution_count": 29,
   "id": "abf79d4a-e331-4538-9bf4-46ba77833e72",
   "metadata": {},
   "outputs": [],
   "source": [
    "filtered_selected_columns['SCREENTIME']=selected_columns['SCREENTIME']\n",
    "filtered_selected_columns['SCREENTIME']=filtered_selected_columns['SCREENTIME'].astype(int)"
   ]
  },
  {
   "cell_type": "code",
   "execution_count": 60,
   "id": "fb48f1ec-69c8-44f2-88b8-a1f7f286474e",
   "metadata": {},
   "outputs": [
    {
     "name": "stdout",
     "output_type": "stream",
     "text": [
      "0        False\n",
      "1        False\n",
      "2        False\n",
      "3        False\n",
      "4        False\n",
      "         ...  \n",
      "55099    False\n",
      "55109    False\n",
      "55113    False\n",
      "55152    False\n",
      "55156    False\n",
      "Name: SCREENTIME, Length: 5412, dtype: bool\n"
     ]
    }
   ],
   "source": [
    "filtered_selected_columns['SCREENTIME'].value_counts(dropna=False)\n",
    "print(filtered_selected_columns['SCREENTIME'].isna())"
   ]
  },
  {
   "cell_type": "code",
   "execution_count": 31,
   "id": "6fe96240-5453-4055-b4df-d6dccc589a69",
   "metadata": {},
   "outputs": [],
   "source": [
    "# ON MOST WEEKDAYS, about how much time did this child spend in front of a TV, computer, cellphone or \n",
    "#other electronic device watching programs, playing games, accessing the internet or using social media?"
   ]
  },
  {
   "cell_type": "code",
   "execution_count": 32,
   "id": "998fccfa-35d7-42b6-b2c4-b668bc7fd443",
   "metadata": {},
   "outputs": [],
   "source": [
    "def screentime(number):\n",
    "    if number == 1:\n",
    "        return  0\n",
    "    elif number == 2:\n",
    "        return 1 \n",
    "    elif number == 3:\n",
    "        return 2 \n",
    "    elif number == 4:\n",
    "        return 3\n",
    "    elif number == 5:\n",
    "        return 4 \n",
    "    \n"
   ]
  },
  {
   "cell_type": "code",
   "execution_count": 33,
   "id": "6e711cee-eeb5-444a-8943-127c209017b3",
   "metadata": {},
   "outputs": [
    {
     "data": {
      "text/plain": [
       "0        3\n",
       "1        4\n",
       "2        3\n",
       "3        3\n",
       "4        4\n",
       "        ..\n",
       "55099    4\n",
       "55109    4\n",
       "55113    0\n",
       "55152    3\n",
       "55156    2\n",
       "Name: SCREENTIME, Length: 5217, dtype: int64"
      ]
     },
     "execution_count": 33,
     "metadata": {},
     "output_type": "execute_result"
    }
   ],
   "source": [
    "filtered_selected_columns['SCREENTIME'].apply(screentime)\n",
    "#filtered_selected_columns"
   ]
  },
  {
   "cell_type": "code",
   "execution_count": 34,
   "id": "0d61bef2-bbcc-4b08-92f7-be3c8e8a9852",
   "metadata": {},
   "outputs": [],
   "source": [
    "filtered_selected_columns['SCREENTIME']=filtered_selected_columns['SCREENTIME'].apply(screentime)\n"
   ]
  },
  {
   "cell_type": "code",
   "execution_count": 35,
   "id": "54f4a2fa-9c6d-43ef-a578-4e4d1036dbb5",
   "metadata": {},
   "outputs": [],
   "source": [
    "filtered_selected_columns=filtered_selected_columns.reset_index(drop=True)"
   ]
  },
  {
   "cell_type": "code",
   "execution_count": 61,
   "id": "241161f4-b9f7-4578-8817-5a9a1da01fe4",
   "metadata": {},
   "outputs": [
    {
     "data": {
      "text/html": [
       "<div>\n",
       "<style scoped>\n",
       "    .dataframe tbody tr th:only-of-type {\n",
       "        vertical-align: middle;\n",
       "    }\n",
       "\n",
       "    .dataframe tbody tr th {\n",
       "        vertical-align: top;\n",
       "    }\n",
       "\n",
       "    .dataframe thead th {\n",
       "        text-align: right;\n",
       "    }\n",
       "</style>\n",
       "<table border=\"1\" class=\"dataframe\">\n",
       "  <thead>\n",
       "    <tr style=\"text-align: right;\">\n",
       "      <th></th>\n",
       "      <th>GRADES</th>\n",
       "      <th>BEDTIME</th>\n",
       "      <th>HOURSLEEP</th>\n",
       "      <th>BIRTH_YR</th>\n",
       "      <th>BORNUSA</th>\n",
       "      <th>SCREENTIME</th>\n",
       "      <th>AGE</th>\n",
       "    </tr>\n",
       "  </thead>\n",
       "  <tbody>\n",
       "    <tr>\n",
       "      <th>0</th>\n",
       "      <td>3</td>\n",
       "      <td>3.0</td>\n",
       "      <td>3</td>\n",
       "      <td>2011</td>\n",
       "      <td>1.0</td>\n",
       "      <td>4</td>\n",
       "      <td>12</td>\n",
       "    </tr>\n",
       "    <tr>\n",
       "      <th>1</th>\n",
       "      <td>1</td>\n",
       "      <td>1.0</td>\n",
       "      <td>5</td>\n",
       "      <td>2009</td>\n",
       "      <td>1.0</td>\n",
       "      <td>5</td>\n",
       "      <td>14</td>\n",
       "    </tr>\n",
       "    <tr>\n",
       "      <th>2</th>\n",
       "      <td>3</td>\n",
       "      <td>2.0</td>\n",
       "      <td>5</td>\n",
       "      <td>2006</td>\n",
       "      <td>1.0</td>\n",
       "      <td>4</td>\n",
       "      <td>17</td>\n",
       "    </tr>\n",
       "    <tr>\n",
       "      <th>3</th>\n",
       "      <td>2</td>\n",
       "      <td>2.0</td>\n",
       "      <td>5</td>\n",
       "      <td>2010</td>\n",
       "      <td>1.0</td>\n",
       "      <td>4</td>\n",
       "      <td>13</td>\n",
       "    </tr>\n",
       "    <tr>\n",
       "      <th>4</th>\n",
       "      <td>2</td>\n",
       "      <td>2.0</td>\n",
       "      <td>5</td>\n",
       "      <td>2012</td>\n",
       "      <td>1.0</td>\n",
       "      <td>5</td>\n",
       "      <td>11</td>\n",
       "    </tr>\n",
       "  </tbody>\n",
       "</table>\n",
       "</div>"
      ],
      "text/plain": [
       "   GRADES  BEDTIME  HOURSLEEP  BIRTH_YR  BORNUSA  SCREENTIME  AGE\n",
       "0       3      3.0          3      2011      1.0           4   12\n",
       "1       1      1.0          5      2009      1.0           5   14\n",
       "2       3      2.0          5      2006      1.0           4   17\n",
       "3       2      2.0          5      2010      1.0           4   13\n",
       "4       2      2.0          5      2012      1.0           5   11"
      ]
     },
     "execution_count": 61,
     "metadata": {},
     "output_type": "execute_result"
    }
   ],
   "source": [
    "filtered_selected_columns.head()"
   ]
  },
  {
   "cell_type": "code",
   "execution_count": 62,
   "id": "9f756114-46e7-42bf-ba2e-4eb15c2f7209",
   "metadata": {},
   "outputs": [
    {
     "data": {
      "text/html": [
       "<div>\n",
       "<style scoped>\n",
       "    .dataframe tbody tr th:only-of-type {\n",
       "        vertical-align: middle;\n",
       "    }\n",
       "\n",
       "    .dataframe tbody tr th {\n",
       "        vertical-align: top;\n",
       "    }\n",
       "\n",
       "    .dataframe thead th {\n",
       "        text-align: right;\n",
       "    }\n",
       "</style>\n",
       "<table border=\"1\" class=\"dataframe\">\n",
       "  <thead>\n",
       "    <tr style=\"text-align: right;\">\n",
       "      <th></th>\n",
       "      <th>GRADES</th>\n",
       "      <th>BEDTIME</th>\n",
       "      <th>HOURSLEEP</th>\n",
       "      <th>BIRTH_YR</th>\n",
       "      <th>BORNUSA</th>\n",
       "      <th>SCREENTIME</th>\n",
       "      <th>AGE</th>\n",
       "    </tr>\n",
       "  </thead>\n",
       "  <tbody>\n",
       "    <tr>\n",
       "      <th>count</th>\n",
       "      <td>5412.0</td>\n",
       "      <td>5412.0</td>\n",
       "      <td>5412.0</td>\n",
       "      <td>5412.0</td>\n",
       "      <td>5412.0</td>\n",
       "      <td>5412.0</td>\n",
       "      <td>5412.0</td>\n",
       "    </tr>\n",
       "    <tr>\n",
       "      <th>mean</th>\n",
       "      <td>2.9</td>\n",
       "      <td>2.2</td>\n",
       "      <td>4.3</td>\n",
       "      <td>2010.9</td>\n",
       "      <td>1.2</td>\n",
       "      <td>3.5</td>\n",
       "      <td>12.1</td>\n",
       "    </tr>\n",
       "    <tr>\n",
       "      <th>std</th>\n",
       "      <td>1.7</td>\n",
       "      <td>1.1</td>\n",
       "      <td>1.5</td>\n",
       "      <td>4.0</td>\n",
       "      <td>0.4</td>\n",
       "      <td>1.3</td>\n",
       "      <td>4.0</td>\n",
       "    </tr>\n",
       "    <tr>\n",
       "      <th>min</th>\n",
       "      <td>1.0</td>\n",
       "      <td>1.0</td>\n",
       "      <td>1.0</td>\n",
       "      <td>2005.0</td>\n",
       "      <td>1.0</td>\n",
       "      <td>1.0</td>\n",
       "      <td>0.0</td>\n",
       "    </tr>\n",
       "    <tr>\n",
       "      <th>25%</th>\n",
       "      <td>2.0</td>\n",
       "      <td>1.0</td>\n",
       "      <td>3.0</td>\n",
       "      <td>2008.0</td>\n",
       "      <td>1.0</td>\n",
       "      <td>3.0</td>\n",
       "      <td>9.0</td>\n",
       "    </tr>\n",
       "    <tr>\n",
       "      <th>50%</th>\n",
       "      <td>2.0</td>\n",
       "      <td>2.0</td>\n",
       "      <td>4.0</td>\n",
       "      <td>2011.0</td>\n",
       "      <td>1.0</td>\n",
       "      <td>4.0</td>\n",
       "      <td>12.0</td>\n",
       "    </tr>\n",
       "    <tr>\n",
       "      <th>75%</th>\n",
       "      <td>4.0</td>\n",
       "      <td>3.0</td>\n",
       "      <td>5.0</td>\n",
       "      <td>2014.0</td>\n",
       "      <td>1.0</td>\n",
       "      <td>5.0</td>\n",
       "      <td>15.0</td>\n",
       "    </tr>\n",
       "    <tr>\n",
       "      <th>max</th>\n",
       "      <td>6.0</td>\n",
       "      <td>5.0</td>\n",
       "      <td>7.0</td>\n",
       "      <td>2023.0</td>\n",
       "      <td>2.0</td>\n",
       "      <td>5.0</td>\n",
       "      <td>18.0</td>\n",
       "    </tr>\n",
       "  </tbody>\n",
       "</table>\n",
       "</div>"
      ],
      "text/plain": [
       "       GRADES  BEDTIME  HOURSLEEP  BIRTH_YR  BORNUSA  SCREENTIME     AGE\n",
       "count  5412.0   5412.0     5412.0    5412.0   5412.0      5412.0  5412.0\n",
       "mean      2.9      2.2        4.3    2010.9      1.2         3.5    12.1\n",
       "std       1.7      1.1        1.5       4.0      0.4         1.3     4.0\n",
       "min       1.0      1.0        1.0    2005.0      1.0         1.0     0.0\n",
       "25%       2.0      1.0        3.0    2008.0      1.0         3.0     9.0\n",
       "50%       2.0      2.0        4.0    2011.0      1.0         4.0    12.0\n",
       "75%       4.0      3.0        5.0    2014.0      1.0         5.0    15.0\n",
       "max       6.0      5.0        7.0    2023.0      2.0         5.0    18.0"
      ]
     },
     "execution_count": 62,
     "metadata": {},
     "output_type": "execute_result"
    }
   ],
   "source": [
    "filtered_selected_columns.describe(include='all')\n"
   ]
  },
  {
   "cell_type": "markdown",
   "id": "1f12eb09-af00-49d6-9d77-9b89cb061a9b",
   "metadata": {},
   "source": [
    "#### Count average sleep and screen time by grades"
   ]
  },
  {
   "cell_type": "code",
   "execution_count": 37,
   "id": "1a0c855a-15df-4388-9da8-2a404ba7d09a",
   "metadata": {},
   "outputs": [
    {
     "data": {
      "text/plain": [
       "GRADES\n",
       "Mostly A's                                        1286\n",
       "Mostly A's and B's                                1385\n",
       "Mostly B's and C's                                 974\n",
       "Mostly C's and D's                                 531\n",
       "Mostly D's and lower                               259\n",
       "This child's school does not give these grades     782\n",
       "dtype: int64"
      ]
     },
     "execution_count": 37,
     "metadata": {},
     "output_type": "execute_result"
    }
   ],
   "source": [
    "grades_groups=filtered_selected_columns.groupby('GRADES')\n",
    "grades_groups.size()"
   ]
  },
  {
   "cell_type": "code",
   "execution_count": 38,
   "id": "15dd8667-f1e4-4bf4-9dac-dac0bc72b629",
   "metadata": {},
   "outputs": [],
   "source": [
    "pd.set_option('display.precision',1)"
   ]
  },
  {
   "cell_type": "code",
   "execution_count": 39,
   "id": "985adc06-8102-4a58-90a7-a5e04b3350c9",
   "metadata": {},
   "outputs": [
    {
     "data": {
      "text/html": [
       "<div>\n",
       "<style scoped>\n",
       "    .dataframe tbody tr th:only-of-type {\n",
       "        vertical-align: middle;\n",
       "    }\n",
       "\n",
       "    .dataframe tbody tr th {\n",
       "        vertical-align: top;\n",
       "    }\n",
       "\n",
       "    .dataframe thead th {\n",
       "        text-align: right;\n",
       "    }\n",
       "</style>\n",
       "<table border=\"1\" class=\"dataframe\">\n",
       "  <thead>\n",
       "    <tr style=\"text-align: right;\">\n",
       "      <th></th>\n",
       "      <th>HOURSLEEP</th>\n",
       "      <th>SCREENTIME</th>\n",
       "    </tr>\n",
       "    <tr>\n",
       "      <th>GRADES</th>\n",
       "      <th></th>\n",
       "      <th></th>\n",
       "    </tr>\n",
       "  </thead>\n",
       "  <tbody>\n",
       "    <tr>\n",
       "      <th>Mostly A's</th>\n",
       "      <td>9.4</td>\n",
       "      <td>2.3</td>\n",
       "    </tr>\n",
       "    <tr>\n",
       "      <th>Mostly A's and B's</th>\n",
       "      <td>9.3</td>\n",
       "      <td>2.4</td>\n",
       "    </tr>\n",
       "    <tr>\n",
       "      <th>Mostly B's and C's</th>\n",
       "      <td>9.1</td>\n",
       "      <td>2.6</td>\n",
       "    </tr>\n",
       "    <tr>\n",
       "      <th>Mostly C's and D's</th>\n",
       "      <td>8.9</td>\n",
       "      <td>2.8</td>\n",
       "    </tr>\n",
       "    <tr>\n",
       "      <th>Mostly D's and lower</th>\n",
       "      <td>8.9</td>\n",
       "      <td>3.1</td>\n",
       "    </tr>\n",
       "    <tr>\n",
       "      <th>This child's school does not give these grades</th>\n",
       "      <td>9.5</td>\n",
       "      <td>2.4</td>\n",
       "    </tr>\n",
       "  </tbody>\n",
       "</table>\n",
       "</div>"
      ],
      "text/plain": [
       "                                                HOURSLEEP  SCREENTIME\n",
       "GRADES                                                               \n",
       "Mostly A's                                            9.4         2.3\n",
       "Mostly A's and B's                                    9.3         2.4\n",
       "Mostly B's and C's                                    9.1         2.6\n",
       "Mostly C's and D's                                    8.9         2.8\n",
       "Mostly D's and lower                                  8.9         3.1\n",
       "This child's school does not give these grades        9.5         2.4"
      ]
     },
     "execution_count": 39,
     "metadata": {},
     "output_type": "execute_result"
    }
   ],
   "source": [
    "average_hours=grades_groups[['HOURSLEEP','SCREENTIME']].mean()\n",
    "average_hours"
   ]
  },
  {
   "cell_type": "code",
   "execution_count": 40,
   "id": "678d2493-ea6a-4e03-8da2-29a4453ce113",
   "metadata": {},
   "outputs": [],
   "source": [
    "import matplotlib.pyplot as plt"
   ]
  },
  {
   "cell_type": "code",
   "execution_count": 41,
   "id": "5b18f8cf-5e2e-4fbf-941c-1f241761f25d",
   "metadata": {},
   "outputs": [],
   "source": [
    "plt.style.use('dark_background')"
   ]
  },
  {
   "cell_type": "code",
   "execution_count": 42,
   "id": "5a8fafe3-918a-41e4-a39e-391cdc23b14d",
   "metadata": {
    "scrolled": true
   },
   "outputs": [
    {
     "data": {
      "image/png": "[encoded data removed]",
      "text/plain": [
       "<Figure size 800x500 with 1 Axes>"
      ]
     },
     "metadata": {},
     "output_type": "display_data"
    }
   ],
   "source": [
    "ax=average_hours.plot(kind='bar',figsize=(8,5), color=['skyblue', 'salmon'])\n",
    "for container in ax.containers:\n",
    "    ax.bar_label(container,fmt='%.1f', padding=3)\n",
    "plt.title('Average Sleep and Screen Time by Grades')\n",
    "plt.ylabel('Hours')\n",
    "plt.xticks(rotation=30)\n",
    "plt.grid(axis='y')\n",
    "#plt.tight_layout()\n",
    "plt.show()"
   ]
  },
  {
   "cell_type": "markdown",
   "id": "96aa127d-2a93-4726-8b35-1685289e5c6f",
   "metadata": {},
   "source": [
    "### **Conclusion:** \n",
    "\n",
    "#### The chart reveals a clear pattern: students with higher average hours of sleep and lower screen time tend to achieve better grades. For example, those with 'Mostly A's' have the highest sleep duration and the lowest screen time compared to students with lower grade categories. In contrast, as sleep decreases and screen time increases, average grades tend to decline."
   ]
  },
  {
   "cell_type": "markdown",
   "id": "8b1d7be2-26f3-40d0-9248-7f05d7f2245b",
   "metadata": {},
   "source": [
    "#### Count average sleep and screen time by age"
   ]
  },
  {
   "cell_type": "code",
   "execution_count": 43,
   "id": "9cf1bb8d-16a3-4b43-b0c0-717ce309d0cb",
   "metadata": {},
   "outputs": [
    {
     "data": {
      "text/plain": [
       "AGE\n",
       "6     261\n",
       "7     365\n",
       "8     372\n",
       "9     355\n",
       "10    385\n",
       "11    402\n",
       "12    397\n",
       "13    420\n",
       "14    454\n",
       "15    467\n",
       "16    491\n",
       "17    510\n",
       "18    338\n",
       "dtype: int64"
      ]
     },
     "execution_count": 43,
     "metadata": {},
     "output_type": "execute_result"
    }
   ],
   "source": [
    "ages=filtered_selected_columns.groupby('AGE')\n",
    "ages.size()"
   ]
  },
  {
   "cell_type": "code",
   "execution_count": 44,
   "id": "aaaa9cfc-2036-4459-a32a-538f87a2ef84",
   "metadata": {},
   "outputs": [
    {
     "data": {
      "text/html": [
       "<div>\n",
       "<style scoped>\n",
       "    .dataframe tbody tr th:only-of-type {\n",
       "        vertical-align: middle;\n",
       "    }\n",
       "\n",
       "    .dataframe tbody tr th {\n",
       "        vertical-align: top;\n",
       "    }\n",
       "\n",
       "    .dataframe thead th {\n",
       "        text-align: right;\n",
       "    }\n",
       "</style>\n",
       "<table border=\"1\" class=\"dataframe\">\n",
       "  <thead>\n",
       "    <tr style=\"text-align: right;\">\n",
       "      <th></th>\n",
       "      <th>HOURSLEEP</th>\n",
       "      <th>SCREENTIME</th>\n",
       "    </tr>\n",
       "    <tr>\n",
       "      <th>AGE</th>\n",
       "      <th></th>\n",
       "      <th></th>\n",
       "    </tr>\n",
       "  </thead>\n",
       "  <tbody>\n",
       "    <tr>\n",
       "      <th>6</th>\n",
       "      <td>9.8</td>\n",
       "      <td>2.1</td>\n",
       "    </tr>\n",
       "    <tr>\n",
       "      <th>7</th>\n",
       "      <td>9.6</td>\n",
       "      <td>2.1</td>\n",
       "    </tr>\n",
       "    <tr>\n",
       "      <th>8</th>\n",
       "      <td>9.7</td>\n",
       "      <td>2.2</td>\n",
       "    </tr>\n",
       "    <tr>\n",
       "      <th>9</th>\n",
       "      <td>9.7</td>\n",
       "      <td>2.2</td>\n",
       "    </tr>\n",
       "    <tr>\n",
       "      <th>10</th>\n",
       "      <td>9.6</td>\n",
       "      <td>2.3</td>\n",
       "    </tr>\n",
       "    <tr>\n",
       "      <th>11</th>\n",
       "      <td>9.4</td>\n",
       "      <td>2.4</td>\n",
       "    </tr>\n",
       "    <tr>\n",
       "      <th>12</th>\n",
       "      <td>9.3</td>\n",
       "      <td>2.5</td>\n",
       "    </tr>\n",
       "    <tr>\n",
       "      <th>13</th>\n",
       "      <td>9.2</td>\n",
       "      <td>2.5</td>\n",
       "    </tr>\n",
       "    <tr>\n",
       "      <th>14</th>\n",
       "      <td>9.2</td>\n",
       "      <td>2.7</td>\n",
       "    </tr>\n",
       "    <tr>\n",
       "      <th>15</th>\n",
       "      <td>9.0</td>\n",
       "      <td>2.6</td>\n",
       "    </tr>\n",
       "    <tr>\n",
       "      <th>16</th>\n",
       "      <td>8.8</td>\n",
       "      <td>2.7</td>\n",
       "    </tr>\n",
       "    <tr>\n",
       "      <th>17</th>\n",
       "      <td>8.7</td>\n",
       "      <td>2.7</td>\n",
       "    </tr>\n",
       "    <tr>\n",
       "      <th>18</th>\n",
       "      <td>8.8</td>\n",
       "      <td>2.8</td>\n",
       "    </tr>\n",
       "  </tbody>\n",
       "</table>\n",
       "</div>"
      ],
      "text/plain": [
       "     HOURSLEEP  SCREENTIME\n",
       "AGE                       \n",
       "6          9.8         2.1\n",
       "7          9.6         2.1\n",
       "8          9.7         2.2\n",
       "9          9.7         2.2\n",
       "10         9.6         2.3\n",
       "11         9.4         2.4\n",
       "12         9.3         2.5\n",
       "13         9.2         2.5\n",
       "14         9.2         2.7\n",
       "15         9.0         2.6\n",
       "16         8.8         2.7\n",
       "17         8.7         2.7\n",
       "18         8.8         2.8"
      ]
     },
     "execution_count": 44,
     "metadata": {},
     "output_type": "execute_result"
    }
   ],
   "source": [
    "ages_group=ages[['HOURSLEEP','SCREENTIME']].mean()\n",
    "ages_group"
   ]
  },
  {
   "cell_type": "code",
   "execution_count": null,
   "id": "0513e5e1-0f77-40a1-b611-f9608023a99f",
   "metadata": {},
   "outputs": [],
   "source": []
  },
  {
   "cell_type": "code",
   "execution_count": 45,
   "id": "0cb3e6b5-2f26-424f-ac2b-f233e6fd7b54",
   "metadata": {},
   "outputs": [
    {
     "data": {
      "image/png": "[encoded data removed]",
      "text/plain": [
       "<Figure size 1500x600 with 1 Axes>"
      ]
     },
     "metadata": {},
     "output_type": "display_data"
    }
   ],
   "source": [
    "ax=ages_group.plot(kind='barh',figsize=(15,6),color=['green','red'])\n",
    "for container in ax.containers:\n",
    "    ax.bar_label(container,fmt='%.1f',padding=3)\n",
    "plt.title('Average Sleep and Screen Time by Age')\n",
    "plt.xlabel('Hours')\n",
    "plt.grid(axis='x')\n",
    "plt.xticks(rotation=30)\n",
    "plt.show()"
   ]
  },
  {
   "cell_type": "markdown",
   "id": "8557887d-a784-4963-a71d-1bd3f3e0e561",
   "metadata": {},
   "source": [
    "### **Conclusion:**\n",
    "\n",
    "#### The chart shows that younger children tend to sleep longer and have less screen time compared to older children. As age increases, both the average hours of sleep decrease and screen time increases."
   ]
  },
  {
   "cell_type": "code",
   "execution_count": null,
   "id": "31d0620a-f1ea-44a7-ab2b-0b84d542b794",
   "metadata": {},
   "outputs": [],
   "source": []
  },
  {
   "cell_type": "code",
   "execution_count": 46,
   "id": "df5a3696-eeaa-4749-ab33-d3cf11b61d78",
   "metadata": {},
   "outputs": [
    {
     "data": {
      "text/plain": [
       "HOURSLEEP     8.7\n",
       "SCREENTIME    2.7\n",
       "dtype: float64"
      ]
     },
     "execution_count": 46,
     "metadata": {},
     "output_type": "execute_result"
    }
   ],
   "source": [
    "ages.get_group(17)[['HOURSLEEP','SCREENTIME']].mean()# this code confirms that the previous calculation(cell 212) is correct"
   ]
  },
  {
   "cell_type": "code",
   "execution_count": null,
   "id": "6556189a-644a-45e4-8842-1f9a4b438569",
   "metadata": {},
   "outputs": [],
   "source": []
  }
 ],
 "metadata": {
  "kernelspec": {
   "display_name": "Python 3 (ipykernel)",
   "language": "python",
   "name": "python3"
  },
  "language_info": {
   "codemirror_mode": {
    "name": "ipython",
    "version": 3
   },
   "file_extension": ".py",
   "mimetype": "text/x-python",
   "name": "python",
   "nbconvert_exporter": "python",
   "pygments_lexer": "ipython3",
   "version": "3.13.5"
  }
 },
 "nbformat": 4,
 "nbformat_minor": 5
}
